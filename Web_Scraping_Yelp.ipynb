{
 "cells": [
  {
   "cell_type": "code",
   "execution_count": 1,
   "metadata": {
    "collapsed": true
   },
   "outputs": [],
   "source": [
    "#Extract the Top 10 Most Reviewed restaurants in Minnesota from Yelp using web scraping"
   ]
  },
  {
   "cell_type": "code",
   "execution_count": 2,
   "metadata": {
    "collapsed": false
   },
   "outputs": [],
   "source": [
    "from pprint import pprint\n",
    "from urllib import request\n",
    "from urllib.request import urlopen\n",
    "from bs4 import BeautifulSoup\n",
    "import pandas as pd\n",
    "import pymysql\n",
    "import datetime"
   ]
  },
  {
   "cell_type": "code",
   "execution_count": 3,
   "metadata": {
    "collapsed": false
   },
   "outputs": [],
   "source": [
    "mysql_schema = 'Project_A'\n",
    "mysql_table = 'yelp_mn_reviews'\n",
    "file = open('/Users/dhong/Desktop/csv_files/pwd.txt','r')\n",
    "pwd = file.read()\n",
    "ifexists_method = 'append'\n",
    "\n",
    "#Connect to MySQL database \n",
    "db = pymysql.connect(\"localhost\", \"root\", pwd, mysql_schema, charset='utf8')\n"
   ]
  },
  {
   "cell_type": "code",
   "execution_count": 4,
   "metadata": {
    "collapsed": false
   },
   "outputs": [],
   "source": [
    "#Get most reviewed restaurants in Minneapolis\n",
    "get_review_cnt = \"https://www.yelp.com/search?find_desc=Restaurants&find_loc=Minneapolis,+MN&start=0&sortby=review_count\"\n",
    "\n",
    "test_url = request.urlopen(get_review_cnt)\n",
    "\n",
    "read_html = test_url.read()\n"
   ]
  },
  {
   "cell_type": "code",
   "execution_count": 5,
   "metadata": {
    "collapsed": false,
    "scrolled": false
   },
   "outputs": [
    {
     "name": "stderr",
     "output_type": "stream",
     "text": [
      "/Users/dhong/anaconda/envs/py35/lib/python3.5/site-packages/bs4/__init__.py:181: UserWarning: No parser was explicitly specified, so I'm using the best available HTML parser for this system (\"lxml\"). This usually isn't a problem, but if you run this code on another system, or in a different virtual environment, it may use a different parser and behave differently.\n",
      "\n",
      "The code that caused this warning is on line 184 of the file /Users/dhong/anaconda/envs/py35/lib/python3.5/runpy.py. To get rid of this warning, change code that looks like this:\n",
      "\n",
      " BeautifulSoup([your markup])\n",
      "\n",
      "to this:\n",
      "\n",
      " BeautifulSoup([your markup], \"lxml\")\n",
      "\n",
      "  markup_type=markup_type))\n"
     ]
    }
   ],
   "source": [
    "soup = BeautifulSoup(read_html)"
   ]
  },
  {
   "cell_type": "code",
   "execution_count": 6,
   "metadata": {
    "collapsed": false
   },
   "outputs": [],
   "source": [
    "#Save the html code as a string\n",
    "save_html = soup.prettify()"
   ]
  },
  {
   "cell_type": "code",
   "execution_count": 7,
   "metadata": {
    "collapsed": false
   },
   "outputs": [],
   "source": [
    "#Save the string as a html file to my local environment\n",
    "#I like to view this code in Visual Studio Code since color formatting helps to identify which div tag I should be \n",
    "#filtering for in the long line of code.\n",
    "with open(\"/Users/dhong/Desktop/yelp.html\", \"w\") as text_file:\n",
    "    text_file.write(save_html)"
   ]
  },
  {
   "cell_type": "code",
   "execution_count": 8,
   "metadata": {
    "collapsed": false
   },
   "outputs": [],
   "source": [
    "#extract all of the code under the div tag \"search-results-content\". This will reduce the amount of code I need to get\n",
    "#the top 10 restaurants in Minneapolis with the most reviews.\n",
    "getsearchresults = soup.html.find_all(\"div\", class_=\"search-results-content\")\n"
   ]
  },
  {
   "cell_type": "code",
   "execution_count": 9,
   "metadata": {
    "collapsed": false
   },
   "outputs": [
    {
     "data": {
      "text/plain": [
       "bs4.element.Tag"
      ]
     },
     "execution_count": 9,
     "metadata": {},
     "output_type": "execute_result"
    }
   ],
   "source": [
    "#Need to create another set based on the getsearchresults array for the findChildren tag filters.\n",
    "#findChildren and find_all filters can be used on an element tag\n",
    "newresults = getsearchresults[0]\n",
    "type(newresults)"
   ]
  },
  {
   "cell_type": "code",
   "execution_count": 10,
   "metadata": {
    "collapsed": false
   },
   "outputs": [],
   "source": [
    "span_filter = newresults.findChildren('span')\n",
    "address_filter = newresults.findChildren('address')\n",
    "a_href_filter = newresults.find_all('a')\n",
    "category_filter = newresults.find_all(\"span\", {\"class\": \"category-str-list\"})"
   ]
  },
  {
   "cell_type": "code",
   "execution_count": 11,
   "metadata": {
    "collapsed": false
   },
   "outputs": [
    {
     "data": {
      "text/plain": [
       "['American (New)|Breakfast & Brunch|Sandwiches',\n",
       " 'American (New)|Steakhouses|Beer Gardens',\n",
       " 'Burgers|Dive Bars',\n",
       " 'American (New)',\n",
       " 'Italian|Desserts|Wine Bars',\n",
       " 'Southern|Caribbean',\n",
       " 'Vietnamese|Sandwiches|Noodles',\n",
       " 'Pizza',\n",
       " 'Pubs|Irish',\n",
       " 'Italian|Seafood|American (Traditional)']"
      ]
     },
     "execution_count": 11,
     "metadata": {},
     "output_type": "execute_result"
    }
   ],
   "source": [
    "category_list = []\n",
    "\n",
    "for x in category_filter:\n",
    "    category_list.append(x.text.replace('\\n','').replace(',','|').replace('  ',''))\n",
    "    \n",
    "category_list"
   ]
  },
  {
   "cell_type": "code",
   "execution_count": 12,
   "metadata": {
    "collapsed": false
   },
   "outputs": [],
   "source": [
    "span_filter2 = []\n",
    "\n",
    "for x in span_filter:\n",
    "    if \"category-str-list\" not in str(x):\n",
    "        span_filter2.append(x)\n",
    "    "
   ]
  },
  {
   "cell_type": "code",
   "execution_count": 13,
   "metadata": {
    "collapsed": false
   },
   "outputs": [
    {
     "data": {
      "text/plain": [
       "['80 S 9th St Minneapolis, MN 55402',\n",
       " '1121 Hennepin Ave Minneapolis, MN 55403',\n",
       " '3500 Cedar Ave S Minneapolis, MN 55407',\n",
       " '112 N 3rd St Minneapolis, MN 55401',\n",
       " '800 Washington Ave N Minneapolis, MN 55401',\n",
       " '600 E Hennepin Ave Minneapolis, MN 55414',\n",
       " '2719 Nicollet Ave S Minneapolis, MN 55408',\n",
       " '5557 Xerxes Ave S Minneapolis, MN 55410',\n",
       " '931 Nicollet Mall Minneapolis, MN 55402',\n",
       " '831 Nicollet Mall Minneapolis, MN 55402']"
      ]
     },
     "execution_count": 13,
     "metadata": {},
     "output_type": "execute_result"
    }
   ],
   "source": [
    "getaddress = [] \n",
    "for x in address_filter:\n",
    "    getaddress.append(x.text.lstrip().rstrip())\n",
    "\n",
    "address_list = []\n",
    "for x in getaddress:\n",
    "    address_list.append(str(x).replace('Minneapolis, MN',' Minneapolis, MN'))\n",
    "    \n",
    "address_list"
   ]
  },
  {
   "cell_type": "code",
   "execution_count": 14,
   "metadata": {
    "collapsed": false
   },
   "outputs": [
    {
     "data": {
      "text/plain": [
       "[('80 S 9th St Minneapolis, MN 55402',\n",
       "  'American (New)|Breakfast & Brunch|Sandwiches'),\n",
       " ('1121 Hennepin Ave Minneapolis, MN 55403',\n",
       "  'American (New)|Steakhouses|Beer Gardens'),\n",
       " ('3500 Cedar Ave S Minneapolis, MN 55407', 'Burgers|Dive Bars'),\n",
       " ('112 N 3rd St Minneapolis, MN 55401', 'American (New)'),\n",
       " ('800 Washington Ave N Minneapolis, MN 55401', 'Italian|Desserts|Wine Bars'),\n",
       " ('600 E Hennepin Ave Minneapolis, MN 55414', 'Southern|Caribbean'),\n",
       " ('2719 Nicollet Ave S Minneapolis, MN 55408',\n",
       "  'Vietnamese|Sandwiches|Noodles'),\n",
       " ('5557 Xerxes Ave S Minneapolis, MN 55410', 'Pizza'),\n",
       " ('931 Nicollet Mall Minneapolis, MN 55402', 'Pubs|Irish'),\n",
       " ('831 Nicollet Mall Minneapolis, MN 55402',\n",
       "  'Italian|Seafood|American (Traditional)')]"
      ]
     },
     "execution_count": 14,
     "metadata": {},
     "output_type": "execute_result"
    }
   ],
   "source": [
    "#Use zip to merge the lists of address and Food category\n",
    "merge_list = []\n",
    "\n",
    "for x in zip(address_list, category_list):\n",
    "    merge_list.append(x)\n",
    "\n",
    "merge_list"
   ]
  },
  {
   "cell_type": "code",
   "execution_count": 15,
   "metadata": {
    "collapsed": false
   },
   "outputs": [
    {
     "data": {
      "text/plain": [
       "['1. Hell’s Kitchen',\n",
       " ' Hell’s Kitchen',\n",
       " ' 1505 ',\n",
       " ' $$',\n",
       " ' $$',\n",
       " ' Downtown Minneapolis',\n",
       " '  (612) 332-4700',\n",
       " ' 2. Butcher & The Boar',\n",
       " ' Butcher & The Boar',\n",
       " ' 1055 ',\n",
       " ' $$$',\n",
       " ' $$$',\n",
       " ' Downtown Minneapolis',\n",
       " '  (612) 238-8888',\n",
       " ' 3. Matt’s Bar',\n",
       " ' Matt’s Bar',\n",
       " ' 972 ',\n",
       " ' $',\n",
       " ' $',\n",
       " ' Powderhorn',\n",
       " '  (612) 722-7072',\n",
       " ' 4. 112 Eatery',\n",
       " ' 112 Eatery',\n",
       " ' 903 ',\n",
       " ' $$$',\n",
       " ' $$$',\n",
       " ' Downtown Minneapolis',\n",
       " '  (612) 343-7696',\n",
       " ' 5. Bar La Grassa',\n",
       " ' Bar La Grassa',\n",
       " ' 884 ',\n",
       " ' $$$',\n",
       " ' $$$',\n",
       " ' North Loop',\n",
       " '  (612) 333-3837',\n",
       " ' 6. Brasa Rotisserie',\n",
       " ' Brasa Rotisserie',\n",
       " ' 778 ',\n",
       " ' $$',\n",
       " ' $$',\n",
       " ' Northeast',\n",
       " '  (612) 379-3030',\n",
       " ' 7. Quang Restaurant',\n",
       " ' Quang Restaurant',\n",
       " ' 684 ',\n",
       " ' $',\n",
       " ' $',\n",
       " ' Whittier',\n",
       " '  (612) 870-4739',\n",
       " ' 8. Pizzeria Lola',\n",
       " ' Pizzeria Lola',\n",
       " ' 679 ',\n",
       " ' $$',\n",
       " ' $$',\n",
       " ' Southwest',\n",
       " '  (612) 424-8338',\n",
       " ' 9. The Local',\n",
       " ' The Local',\n",
       " ' 557 ',\n",
       " ' $$',\n",
       " ' $$',\n",
       " ' Downtown Minneapolis',\n",
       " '  (612) 904-1000',\n",
       " ' 10. Zelo',\n",
       " ' Zelo',\n",
       " ' 540 ',\n",
       " ' $$',\n",
       " ' $$',\n",
       " ' Downtown Minneapolis',\n",
       " '  (612) 333-7000',\n",
       " ' 1',\n",
       " ' Next',\n",
       " ' ']"
      ]
     },
     "execution_count": 15,
     "metadata": {},
     "output_type": "execute_result"
    }
   ],
   "source": [
    "#Cleanse the data from the get_top_ten list by removing unwanted characters\n",
    "get_top_ten = [] \n",
    "for x in span_filter2:\n",
    "    get_top_ten.append(x.text.lstrip().rstrip())\n",
    "\n",
    "get_top_ten = str(get_top_ten).replace('\\\\n','').replace('  ','').replace('[','').replace(']','').replace(\"'\",\"\") \\\n",
    "                      .replace('Phone number,','').replace('reviews','').split(',')\n",
    "get_top_ten"
   ]
  },
  {
   "cell_type": "code",
   "execution_count": 16,
   "metadata": {
    "collapsed": false
   },
   "outputs": [
    {
     "data": {
      "text/plain": [
       "[['1. Hell’s Kitchen',\n",
       "  ' Hell’s Kitchen',\n",
       "  ' 1505 ',\n",
       "  ' $$',\n",
       "  ' $$',\n",
       "  ' Downtown Minneapolis',\n",
       "  '  (612) 332-4700'],\n",
       " [' 2. Butcher & The Boar',\n",
       "  ' Butcher & The Boar',\n",
       "  ' 1055 ',\n",
       "  ' $$$',\n",
       "  ' $$$',\n",
       "  ' Downtown Minneapolis',\n",
       "  '  (612) 238-8888'],\n",
       " [' 3. Matt’s Bar',\n",
       "  ' Matt’s Bar',\n",
       "  ' 972 ',\n",
       "  ' $',\n",
       "  ' $',\n",
       "  ' Powderhorn',\n",
       "  '  (612) 722-7072'],\n",
       " [' 4. 112 Eatery',\n",
       "  ' 112 Eatery',\n",
       "  ' 903 ',\n",
       "  ' $$$',\n",
       "  ' $$$',\n",
       "  ' Downtown Minneapolis',\n",
       "  '  (612) 343-7696'],\n",
       " [' 5. Bar La Grassa',\n",
       "  ' Bar La Grassa',\n",
       "  ' 884 ',\n",
       "  ' $$$',\n",
       "  ' $$$',\n",
       "  ' North Loop',\n",
       "  '  (612) 333-3837'],\n",
       " [' 6. Brasa Rotisserie',\n",
       "  ' Brasa Rotisserie',\n",
       "  ' 778 ',\n",
       "  ' $$',\n",
       "  ' $$',\n",
       "  ' Northeast',\n",
       "  '  (612) 379-3030'],\n",
       " [' 7. Quang Restaurant',\n",
       "  ' Quang Restaurant',\n",
       "  ' 684 ',\n",
       "  ' $',\n",
       "  ' $',\n",
       "  ' Whittier',\n",
       "  '  (612) 870-4739'],\n",
       " [' 8. Pizzeria Lola',\n",
       "  ' Pizzeria Lola',\n",
       "  ' 679 ',\n",
       "  ' $$',\n",
       "  ' $$',\n",
       "  ' Southwest',\n",
       "  '  (612) 424-8338'],\n",
       " [' 9. The Local',\n",
       "  ' The Local',\n",
       "  ' 557 ',\n",
       "  ' $$',\n",
       "  ' $$',\n",
       "  ' Downtown Minneapolis',\n",
       "  '  (612) 904-1000'],\n",
       " [' 10. Zelo',\n",
       "  ' Zelo',\n",
       "  ' 540 ',\n",
       "  ' $$',\n",
       "  ' $$',\n",
       "  ' Downtown Minneapolis',\n",
       "  '  (612) 333-7000'],\n",
       " [' 1', ' Next', ' ']]"
      ]
     },
     "execution_count": 16,
     "metadata": {},
     "output_type": "execute_result"
    }
   ],
   "source": [
    "#Create empty list called data and append 7 values for each array\n",
    "data = []\n",
    "\n",
    "start = 0\n",
    "incr = start + 7\n",
    "end = len(get_top_ten) - 2\n",
    "\n",
    "for x in get_top_ten:\n",
    "    while start < end:\n",
    "        data.append(get_top_ten[start:incr])\n",
    "        \n",
    "        start = start + 7\n",
    "        incr = start + 7\n",
    "\n",
    "data"
   ]
  },
  {
   "cell_type": "code",
   "execution_count": 17,
   "metadata": {
    "collapsed": false
   },
   "outputs": [
    {
     "data": {
      "text/plain": [
       "[' 1', ' Next', ' ']"
      ]
     },
     "execution_count": 17,
     "metadata": {},
     "output_type": "execute_result"
    }
   ],
   "source": [
    "#Remove last array from the data list\n",
    "data.pop()"
   ]
  },
  {
   "cell_type": "code",
   "execution_count": 18,
   "metadata": {
    "collapsed": false
   },
   "outputs": [],
   "source": [
    "#Get current date\n",
    "now = datetime.datetime.now()"
   ]
  },
  {
   "cell_type": "code",
   "execution_count": 19,
   "metadata": {
    "collapsed": false
   },
   "outputs": [
    {
     "data": {
      "text/html": [
       "<div>\n",
       "<table border=\"1\" class=\"dataframe\">\n",
       "  <thead>\n",
       "    <tr style=\"text-align: right;\">\n",
       "      <th></th>\n",
       "      <th>ADDRESS</th>\n",
       "      <th>AREA</th>\n",
       "      <th>CATEGORY</th>\n",
       "      <th>DATE</th>\n",
       "      <th>PHONE</th>\n",
       "      <th>PRICE_RANGE</th>\n",
       "      <th>RESTAURANT</th>\n",
       "      <th>REVIEWS</th>\n",
       "    </tr>\n",
       "  </thead>\n",
       "  <tbody>\n",
       "    <tr>\n",
       "      <th>0</th>\n",
       "      <td>80 S 9th St Minneapolis, MN 55402</td>\n",
       "      <td>Downtown Minneapolis</td>\n",
       "      <td>American (New)|Breakfast &amp; Brunch|Sandwiches</td>\n",
       "      <td>2017-02-28</td>\n",
       "      <td>(612) 332-4700</td>\n",
       "      <td>$$</td>\n",
       "      <td>Hell’s Kitchen</td>\n",
       "      <td>1505</td>\n",
       "    </tr>\n",
       "    <tr>\n",
       "      <th>1</th>\n",
       "      <td>1121 Hennepin Ave Minneapolis, MN 55403</td>\n",
       "      <td>Downtown Minneapolis</td>\n",
       "      <td>American (New)|Steakhouses|Beer Gardens</td>\n",
       "      <td>2017-02-28</td>\n",
       "      <td>(612) 238-8888</td>\n",
       "      <td>$$$</td>\n",
       "      <td>Butcher &amp; The Boar</td>\n",
       "      <td>1055</td>\n",
       "    </tr>\n",
       "    <tr>\n",
       "      <th>2</th>\n",
       "      <td>3500 Cedar Ave S Minneapolis, MN 55407</td>\n",
       "      <td>Powderhorn</td>\n",
       "      <td>Burgers|Dive Bars</td>\n",
       "      <td>2017-02-28</td>\n",
       "      <td>(612) 722-7072</td>\n",
       "      <td>$</td>\n",
       "      <td>Matt’s Bar</td>\n",
       "      <td>972</td>\n",
       "    </tr>\n",
       "    <tr>\n",
       "      <th>3</th>\n",
       "      <td>112 N 3rd St Minneapolis, MN 55401</td>\n",
       "      <td>Downtown Minneapolis</td>\n",
       "      <td>American (New)</td>\n",
       "      <td>2017-02-28</td>\n",
       "      <td>(612) 343-7696</td>\n",
       "      <td>$$$</td>\n",
       "      <td>112 Eatery</td>\n",
       "      <td>903</td>\n",
       "    </tr>\n",
       "    <tr>\n",
       "      <th>4</th>\n",
       "      <td>800 Washington Ave N Minneapolis, MN 55401</td>\n",
       "      <td>North Loop</td>\n",
       "      <td>Italian|Desserts|Wine Bars</td>\n",
       "      <td>2017-02-28</td>\n",
       "      <td>(612) 333-3837</td>\n",
       "      <td>$$$</td>\n",
       "      <td>Bar La Grassa</td>\n",
       "      <td>884</td>\n",
       "    </tr>\n",
       "    <tr>\n",
       "      <th>5</th>\n",
       "      <td>600 E Hennepin Ave Minneapolis, MN 55414</td>\n",
       "      <td>Northeast</td>\n",
       "      <td>Southern|Caribbean</td>\n",
       "      <td>2017-02-28</td>\n",
       "      <td>(612) 379-3030</td>\n",
       "      <td>$$</td>\n",
       "      <td>Brasa Rotisserie</td>\n",
       "      <td>778</td>\n",
       "    </tr>\n",
       "    <tr>\n",
       "      <th>6</th>\n",
       "      <td>2719 Nicollet Ave S Minneapolis, MN 55408</td>\n",
       "      <td>Whittier</td>\n",
       "      <td>Vietnamese|Sandwiches|Noodles</td>\n",
       "      <td>2017-02-28</td>\n",
       "      <td>(612) 870-4739</td>\n",
       "      <td>$</td>\n",
       "      <td>Quang Restaurant</td>\n",
       "      <td>684</td>\n",
       "    </tr>\n",
       "    <tr>\n",
       "      <th>7</th>\n",
       "      <td>5557 Xerxes Ave S Minneapolis, MN 55410</td>\n",
       "      <td>Southwest</td>\n",
       "      <td>Pizza</td>\n",
       "      <td>2017-02-28</td>\n",
       "      <td>(612) 424-8338</td>\n",
       "      <td>$$</td>\n",
       "      <td>Pizzeria Lola</td>\n",
       "      <td>679</td>\n",
       "    </tr>\n",
       "    <tr>\n",
       "      <th>8</th>\n",
       "      <td>931 Nicollet Mall Minneapolis, MN 55402</td>\n",
       "      <td>Downtown Minneapolis</td>\n",
       "      <td>Pubs|Irish</td>\n",
       "      <td>2017-02-28</td>\n",
       "      <td>(612) 904-1000</td>\n",
       "      <td>$$</td>\n",
       "      <td>The Local</td>\n",
       "      <td>557</td>\n",
       "    </tr>\n",
       "    <tr>\n",
       "      <th>9</th>\n",
       "      <td>831 Nicollet Mall Minneapolis, MN 55402</td>\n",
       "      <td>Downtown Minneapolis</td>\n",
       "      <td>Italian|Seafood|American (Traditional)</td>\n",
       "      <td>2017-02-28</td>\n",
       "      <td>(612) 333-7000</td>\n",
       "      <td>$$</td>\n",
       "      <td>Zelo</td>\n",
       "      <td>540</td>\n",
       "    </tr>\n",
       "  </tbody>\n",
       "</table>\n",
       "</div>"
      ],
      "text/plain": [
       "                                      ADDRESS                   AREA  \\\n",
       "0           80 S 9th St Minneapolis, MN 55402   Downtown Minneapolis   \n",
       "1     1121 Hennepin Ave Minneapolis, MN 55403   Downtown Minneapolis   \n",
       "2      3500 Cedar Ave S Minneapolis, MN 55407             Powderhorn   \n",
       "3          112 N 3rd St Minneapolis, MN 55401   Downtown Minneapolis   \n",
       "4  800 Washington Ave N Minneapolis, MN 55401             North Loop   \n",
       "5    600 E Hennepin Ave Minneapolis, MN 55414              Northeast   \n",
       "6   2719 Nicollet Ave S Minneapolis, MN 55408               Whittier   \n",
       "7     5557 Xerxes Ave S Minneapolis, MN 55410              Southwest   \n",
       "8     931 Nicollet Mall Minneapolis, MN 55402   Downtown Minneapolis   \n",
       "9     831 Nicollet Mall Minneapolis, MN 55402   Downtown Minneapolis   \n",
       "\n",
       "                                       CATEGORY        DATE             PHONE  \\\n",
       "0  American (New)|Breakfast & Brunch|Sandwiches  2017-02-28    (612) 332-4700   \n",
       "1       American (New)|Steakhouses|Beer Gardens  2017-02-28    (612) 238-8888   \n",
       "2                             Burgers|Dive Bars  2017-02-28    (612) 722-7072   \n",
       "3                                American (New)  2017-02-28    (612) 343-7696   \n",
       "4                    Italian|Desserts|Wine Bars  2017-02-28    (612) 333-3837   \n",
       "5                            Southern|Caribbean  2017-02-28    (612) 379-3030   \n",
       "6                 Vietnamese|Sandwiches|Noodles  2017-02-28    (612) 870-4739   \n",
       "7                                         Pizza  2017-02-28    (612) 424-8338   \n",
       "8                                    Pubs|Irish  2017-02-28    (612) 904-1000   \n",
       "9        Italian|Seafood|American (Traditional)  2017-02-28    (612) 333-7000   \n",
       "\n",
       "  PRICE_RANGE           RESTAURANT REVIEWS  \n",
       "0          $$       Hell’s Kitchen   1505   \n",
       "1         $$$   Butcher & The Boar   1055   \n",
       "2           $           Matt’s Bar    972   \n",
       "3         $$$           112 Eatery    903   \n",
       "4         $$$        Bar La Grassa    884   \n",
       "5          $$     Brasa Rotisserie    778   \n",
       "6           $     Quang Restaurant    684   \n",
       "7          $$        Pizzeria Lola    679   \n",
       "8          $$            The Local    557   \n",
       "9          $$                 Zelo    540   "
      ]
     },
     "execution_count": 19,
     "metadata": {},
     "output_type": "execute_result"
    }
   ],
   "source": [
    "#Create pandas dataframe from the lists\n",
    "df = pd.DataFrame({\n",
    "        'RESTAURANT':[x[1] for x in data],\n",
    "        'REVIEWS':[x[2] for x in data],\n",
    "        'PRICE_RANGE':[x[3] for x in data],\n",
    "        'AREA':[x[5] for x in data],\n",
    "        'PHONE':[x[6] for x in data],\n",
    "        'ADDRESS':[x[0] for x in merge_list],\n",
    "        'CATEGORY':[x[1] for x in merge_list],\n",
    "        'DATE': now.strftime(\"%Y-%m-%d\")\n",
    "    })\n",
    "\n",
    "\n",
    "\n",
    "df"
   ]
  },
  {
   "cell_type": "code",
   "execution_count": 20,
   "metadata": {
    "collapsed": false
   },
   "outputs": [
    {
     "name": "stderr",
     "output_type": "stream",
     "text": [
      "/Users/dhong/anaconda/envs/py35/lib/python3.5/site-packages/pandas/core/generic.py:1165: FutureWarning: The 'mysql' flavor with DBAPI connection is deprecated and will be removed in future versions. MySQL will be further supported with SQLAlchemy connectables.\n",
      "  chunksize=chunksize, dtype=dtype)\n"
     ]
    }
   ],
   "source": [
    "#Load pandas dataframe to MySQL table\n",
    "df.to_sql(con=db, name=mysql_table, index=False, if_exists=ifexists_method, flavor='mysql')"
   ]
  },
  {
   "cell_type": "code",
   "execution_count": 21,
   "metadata": {
    "collapsed": false
   },
   "outputs": [
    {
     "name": "stdout",
     "output_type": "stream",
     "text": [
      "('80 S 9th St Minneapolis, MN 55402', ' Downtown Minneapolis', 'American (New)|Breakfast & Brunch|Sandwiches', '2017-02-28', '  (612) 332-4700', ' $$', ' Hell’s Kitchen', ' 1505 ')\n",
      "('1121 Hennepin Ave Minneapolis, MN 55403', ' Downtown Minneapolis', 'American (New)|Steakhouses|Beer Gardens', '2017-02-28', '  (612) 238-8888', ' $$$', ' Butcher & The Boar', ' 1055 ')\n",
      "('3500 Cedar Ave S Minneapolis, MN 55407', ' Powderhorn', 'Burgers|Dive Bars', '2017-02-28', '  (612) 722-7072', ' $', ' Matt’s Bar', ' 972 ')\n",
      "('112 N 3rd St Minneapolis, MN 55401', ' Downtown Minneapolis', 'American (New)', '2017-02-28', '  (612) 343-7696', ' $$$', ' 112 Eatery', ' 903 ')\n",
      "('800 Washington Ave N Minneapolis, MN 55401', ' North Loop', 'Italian|Desserts|Wine Bars', '2017-02-28', '  (612) 333-3837', ' $$$', ' Bar La Grassa', ' 884 ')\n",
      "('600 E Hennepin Ave Minneapolis, MN 55414', ' Northeast', 'Southern|Caribbean', '2017-02-28', '  (612) 379-3030', ' $$', ' Brasa Rotisserie', ' 778 ')\n",
      "('2719 Nicollet Ave S Minneapolis, MN 55408', ' Whittier', 'Vietnamese|Sandwiches|Noodles', '2017-02-28', '  (612) 870-4739', ' $', ' Quang Restaurant', ' 684 ')\n",
      "('5557 Xerxes Ave S Minneapolis, MN 55410', ' Southwest', 'Pizza', '2017-02-28', '  (612) 424-8338', ' $$', ' Pizzeria Lola', ' 679 ')\n",
      "('931 Nicollet Mall Minneapolis, MN 55402', ' Downtown Minneapolis', 'Pubs|Irish', '2017-02-28', '  (612) 904-1000', ' $$', ' The Local', ' 557 ')\n",
      "('831 Nicollet Mall Minneapolis, MN 55402', ' Downtown Minneapolis', 'Italian|Seafood|American (Traditional)', '2017-02-28', '  (612) 333-7000', ' $$', ' Zelo', ' 540 ')\n"
     ]
    }
   ],
   "source": [
    "#Query from MySQL to see the results\n",
    "cur = db.cursor()\n",
    "cur.execute(\"select * from project_a.yelp_mn_reviews\")\n",
    "\n",
    "for row in cur:\n",
    "    print(row)"
   ]
  },
  {
   "cell_type": "code",
   "execution_count": null,
   "metadata": {
    "collapsed": true
   },
   "outputs": [],
   "source": []
  }
 ],
 "metadata": {
  "anaconda-cloud": {},
  "kernelspec": {
   "display_name": "Python [default]",
   "language": "python",
   "name": "python3"
  },
  "language_info": {
   "codemirror_mode": {
    "name": "ipython",
    "version": 3
   },
   "file_extension": ".py",
   "mimetype": "text/x-python",
   "name": "python",
   "nbconvert_exporter": "python",
   "pygments_lexer": "ipython3",
   "version": "3.5.2"
  }
 },
 "nbformat": 4,
 "nbformat_minor": 1
}
